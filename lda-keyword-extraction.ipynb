{
 "cells": [
  {
   "cell_type": "code",
   "execution_count": 1,
   "metadata": {},
   "outputs": [],
   "source": [
    "# import ray\n",
    "# ray.init()\n",
    "# ray.available_resources()\n",
    "# ray.nodes()"
   ]
  },
  {
   "cell_type": "code",
   "execution_count": 2,
   "metadata": {},
   "outputs": [
    {
     "name": "stdout",
     "output_type": "stream",
     "text": [
      "INFO: Pandarallel will run on 8 workers.\n",
      "INFO: Pandarallel will use Memory file system to transfer data between the main process and workers.\n"
     ]
    },
    {
     "name": "stderr",
     "output_type": "stream",
     "text": [
      "<frozen importlib._bootstrap>:219: RuntimeWarning: scipy._lib.messagestream.MessageStream size changed, may indicate binary incompatibility. Expected 56 from C header, got 64 from PyObject\n"
     ]
    }
   ],
   "source": [
    "import pandas as pd\n",
    "import os\n",
    "from pandarallel import pandarallel\n",
    "pandarallel.initialize(progress_bar=True, nb_workers=8)\n",
    "# os.environ[\"MODIN_ENGINE\"] = \"dask\"\n",
    "\n",
    "# import modin.pandas as pd\n",
    "import numpy as np\n",
    "import re\n",
    "import pke"
   ]
  },
  {
   "cell_type": "markdown",
   "metadata": {},
   "source": [
    "import gzip, pickle, pickletools"
   ]
  },
  {
   "cell_type": "markdown",
   "metadata": {},
   "source": [
    "with open('lda-by-section-text-1-gram-100-topics.pkl', 'rb') as f:\n",
    "    lda_model = pickle.load(f)\n",
    "    \n",
    "with open('tf-wordnet-0.9-2-1-gram.pkl', 'rb') as f:\n",
    "    tf_model = pickle.load(f)"
   ]
  },
  {
   "cell_type": "markdown",
   "metadata": {},
   "source": [
    "vocab = tf_model.get_feature_names()"
   ]
  },
  {
   "cell_type": "markdown",
   "metadata": {},
   "source": [
    "pke_model = (tf_model.get_feature_names(),\n",
    "                   lda_model.components_,\n",
    "                   lda_model.exp_dirichlet_component_,\n",
    "                   lda_model.doc_topic_prior_)"
   ]
  },
  {
   "cell_type": "markdown",
   "metadata": {},
   "source": [
    "with gzip.open('lda-by-section-text-1-gram-100-topics.gz', 'wb') as f:\n",
    "    pickle.dump(pke_model, f)"
   ]
  },
  {
   "cell_type": "code",
   "execution_count": 2,
   "metadata": {
    "pycharm": {
     "name": "#%%\n"
    }
   },
   "outputs": [],
   "source": [
    "stopwords = [\"0o\", \"0s\", \"3a\", \"3b\", \"3d\", \"6b\", \"6o\", \"a\", \"a1\", \"a2\", \"a3\", \"a4\", \"ab\", \"able\", \"about\", \"above\", \"abst\", \"ac\", \"accordance\", \"according\", \"accordingly\", \"across\", \"act\", \"actually\", \"ad\", \"added\", \"adj\", \"ae\", \"af\", \"affected\", \"affecting\", \"affects\", \"after\", \"afterwards\", \"ag\", \"again\", \"against\", \"ah\", \"ain\", \"ain't\", \"aj\", \"al\", \"all\", \"allow\", \"allows\", \"almost\", \"alone\", \"along\", \"already\", \"also\", \"although\", \"always\", \"am\", \"among\", \"amongst\", \"amoungst\", \"amount\", \"an\", \"and\", \"announce\", \"another\", \"any\", \"anybody\", \"anyhow\", \"anymore\", \"anyone\", \"anything\", \"anyway\", \"anyways\", \"anywhere\", \"ao\", \"ap\", \"apart\", \"apparently\", \"appear\", \"appreciate\", \"appropriate\", \"approximately\", \"ar\", \"are\", \"aren\", \"arent\", \"aren't\", \"arise\", \"around\", \"as\", \"a's\", \"aside\", \"ask\", \"asking\", \"associated\", \"at\", \"au\", \"auth\", \"av\", \"available\", \"aw\", \"away\", \"awfully\", \"ax\", \"ay\", \"az\", \"b\", \"b1\", \"b2\", \"b3\", \"ba\", \"back\", \"bc\", \"bd\", \"be\", \"became\", \"because\", \"become\", \"becomes\", \"becoming\", \"been\", \"before\", \"beforehand\", \"begin\", \"beginning\", \"beginnings\", \"begins\", \"behind\", \"being\", \"believe\", \"below\", \"beside\", \"besides\", \"best\", \"better\", \"between\", \"beyond\", \"bi\", \"bill\", \"biol\", \"bj\", \"bk\", \"bl\", \"bn\", \"both\", \"bottom\", \"bp\", \"br\", \"brief\", \"briefly\", \"bs\", \"bt\", \"bu\", \"but\", \"bx\", \"by\", \"c\", \"c1\", \"c2\", \"c3\", \"ca\", \"call\", \"came\", \"can\", \"cannot\", \"cant\", \"can't\", \"cause\", \"causes\", \"cc\", \"cd\", \"ce\", \"certain\", \"certainly\", \"cf\", \"cg\", \"ch\", \"changes\", \"ci\", \"cit\", \"cj\", \"cl\", \"clearly\", \"cm\", \"c'mon\", \"cn\", \"co\", \"com\", \"come\", \"comes\", \"con\", \"concerning\", \"consequently\", \"consider\", \"considering\", \"contain\", \"containing\", \"contains\", \"corresponding\", \"could\", \"couldn\", \"couldnt\", \"couldn't\", \"course\", \"cp\", \"cq\", \"cr\", \"cry\", \"cs\", \"c's\", \"ct\", \"cu\", \"currently\", \"cv\", \"cx\", \"cy\", \"cz\", \"d\", \"d2\", \"da\", \"date\", \"dc\", \"dd\", \"de\", \"definitely\", \"describe\", \"described\", \"despite\", \"detail\", \"df\", \"di\", \"did\", \"didn\", \"didn't\", \"different\", \"dj\", \"dk\", \"dl\", \"do\", \"does\", \"doesn\", \"doesn't\", \"doing\", \"don\", \"done\", \"don't\", \"down\", \"downwards\", \"dp\", \"dr\", \"ds\", \"dt\", \"du\", \"due\", \"during\", \"dx\", \"dy\", \"e\", \"e2\", \"e3\", \"ea\", \"each\", \"ec\", \"ed\", \"edu\", \"ee\", \"ef\", \"effect\", \"eg\", \"ei\", \"eight\", \"eighty\", \"either\", \"ej\", \"el\", \"eleven\", \"else\", \"elsewhere\", \"em\", \"empty\", \"en\", \"end\", \"ending\", \"enough\", \"entirely\", \"eo\", \"ep\", \"eq\", \"er\", \"es\", \"especially\", \"est\", \"et\", \"et-al\", \"etc\", \"eu\", \"ev\", \"even\", \"ever\", \"every\", \"everybody\", \"everyone\", \"everything\", \"everywhere\", \"ex\", \"exactly\", \"example\", \"except\", \"ey\", \"f\", \"f2\", \"fa\", \"far\", \"fc\", \"few\", \"ff\", \"fi\", \"fifteen\", \"fifth\", \"fify\", \"fill\", \"find\", \"fire\", \"first\", \"five\", \"fix\", \"fj\", \"fl\", \"fn\", \"fo\", \"followed\", \"following\", \"follows\", \"for\", \"former\", \"formerly\", \"forth\", \"forty\", \"found\", \"four\", \"fr\", \"from\", \"front\", \"fs\", \"ft\", \"fu\", \"full\", \"further\", \"furthermore\", \"fy\", \"g\", \"ga\", \"gave\", \"ge\", \"get\", \"gets\", \"getting\", \"gi\", \"give\", \"given\", \"gives\", \"giving\", \"gj\", \"gl\", \"go\", \"goes\", \"going\", \"gone\", \"got\", \"gotten\", \"gr\", \"greetings\", \"gs\", \"gy\", \"h\", \"h2\", \"h3\", \"had\", \"hadn\", \"hadn't\", \"happens\", \"hardly\", \"has\", \"hasn\", \"hasnt\", \"hasn't\", \"have\", \"haven\", \"haven't\", \"having\", \"he\", \"hed\", \"he'd\", \"he'll\", \"hello\", \"help\", \"hence\", \"her\", \"here\", \"hereafter\", \"hereby\", \"herein\", \"heres\", \"here's\", \"hereupon\", \"hers\", \"herself\", \"hes\", \"he's\", \"hh\", \"hi\", \"hid\", \"him\", \"himself\", \"his\", \"hither\", \"hj\", \"ho\", \"home\", \"hopefully\", \"how\", \"howbeit\", \"however\", \"how's\", \"hr\", \"hs\", \"http\", \"hu\", \"hundred\", \"hy\", \"i\", \"i2\", \"i3\", \"i4\", \"i6\", \"i7\", \"i8\", \"ia\", \"ib\", \"ibid\", \"ic\", \"id\", \"i'd\", \"ie\", \"if\", \"ig\", \"ignored\", \"ih\", \"ii\", \"ij\", \"il\", \"i'll\", \"im\", \"i'm\", \"immediate\", \"immediately\", \"importance\", \"important\", \"in\", \"inasmuch\", \"inc\", \"indeed\", \"index\", \"indicate\", \"indicated\", \"indicates\", \"information\", \"inner\", \"insofar\", \"instead\", \"interest\", \"into\", \"invention\", \"inward\", \"io\", \"ip\", \"iq\", \"ir\", \"is\", \"isn\", \"isn't\", \"it\", \"itd\", \"it'd\", \"it'll\", \"its\", \"it's\", \"itself\", \"iv\", \"i've\", \"ix\", \"iy\", \"iz\", \"j\", \"jj\", \"jr\", \"js\", \"jt\", \"ju\", \"just\", \"k\", \"ke\", \"keep\", \"keeps\", \"kept\", \"kg\", \"kj\", \"km\", \"know\", \"known\", \"knows\", \"ko\", \"l\", \"l2\", \"la\", \"largely\", \"last\", \"lately\", \"later\", \"latter\", \"latterly\", \"lb\", \"lc\", \"le\", \"least\", \"les\", \"less\", \"lest\", \"let\", \"lets\", \"let's\", \"lf\", \"like\", \"liked\", \"likely\", \"line\", \"little\", \"lj\", \"ll\", \"ll\", \"ln\", \"lo\", \"look\", \"looking\", \"looks\", \"los\", \"lr\", \"ls\", \"lt\", \"ltd\", \"m\", \"m2\", \"ma\", \"made\", \"mainly\", \"make\", \"makes\", \"many\", \"may\", \"maybe\", \"me\", \"mean\", \"means\", \"meantime\", \"meanwhile\", \"merely\", \"mg\", \"might\", \"mightn\", \"mightn't\", \"mill\", \"million\", \"mine\", \"miss\", \"ml\", \"mn\", \"mo\", \"more\", \"moreover\", \"most\", \"mostly\", \"move\", \"mr\", \"mrs\", \"ms\", \"mt\", \"mu\", \"much\", \"mug\", \"must\", \"mustn\", \"mustn't\", \"my\", \"myself\", \"n\", \"n2\", \"na\", \"name\", \"namely\", \"nay\", \"nc\", \"nd\", \"ne\", \"near\", \"nearly\", \"necessarily\", \"necessary\", \"need\", \"needn\", \"needn't\", \"needs\", \"neither\", \"never\", \"nevertheless\", \"new\", \"next\", \"ng\", \"ni\", \"nine\", \"ninety\", \"nj\", \"nl\", \"nn\", \"no\", \"nobody\", \"non\", \"none\", \"nonetheless\", \"noone\", \"nor\", \"normally\", \"nos\", \"not\", \"noted\", \"nothing\", \"novel\", \"now\", \"nowhere\", \"nr\", \"ns\", \"nt\", \"ny\", \"o\", \"oa\", \"ob\", \"obtain\", \"obtained\", \"obviously\", \"oc\", \"od\", \"of\", \"off\", \"often\", \"og\", \"oh\", \"oi\", \"oj\", \"ok\", \"okay\", \"ol\", \"old\", \"om\", \"omitted\", \"on\", \"once\", \"one\", \"ones\", \"only\", \"onto\", \"oo\", \"op\", \"oq\", \"or\", \"ord\", \"os\", \"ot\", \"other\", \"others\", \"otherwise\", \"ou\", \"ought\", \"our\", \"ours\", \"ourselves\", \"out\", \"outside\", \"over\", \"overall\", \"ow\", \"owing\", \"own\", \"ox\", \"oz\", \"p\", \"p1\", \"p2\", \"p3\", \"page\", \"pagecount\", \"pages\", \"par\", \"part\", \"particular\", \"particularly\", \"pas\", \"past\", \"pc\", \"pd\", \"pe\", \"per\", \"perhaps\", \"pf\", \"ph\", \"pi\", \"pj\", \"pk\", \"pl\", \"placed\", \"please\", \"plus\", \"pm\", \"pn\", \"po\", \"poorly\", \"possible\", \"possibly\", \"potentially\", \"pp\", \"pq\", \"pr\", \"predominantly\", \"present\", \"presumably\", \"previously\", \"primarily\", \"probably\", \"promptly\", \"proud\", \"provides\", \"ps\", \"pt\", \"pu\", \"put\", \"py\", \"q\", \"qj\", \"qu\", \"que\", \"quickly\", \"quite\", \"qv\", \"r\", \"r2\", \"ra\", \"ran\", \"rather\", \"rc\", \"rd\", \"re\", \"readily\", \"really\", \"reasonably\", \"recent\", \"recently\", \"ref\", \"refs\", \"regarding\", \"regardless\", \"regards\", \"related\", \"relatively\", \"research\", \"research-articl\", \"respectively\", \"resulted\", \"resulting\", \"results\", \"rf\", \"rh\", \"ri\", \"right\", \"rj\", \"rl\", \"rm\", \"rn\", \"ro\", \"rq\", \"rr\", \"rs\", \"rt\", \"ru\", \"run\", \"rv\", \"ry\", \"s\", \"s2\", \"sa\", \"said\", \"same\", \"saw\", \"say\", \"saying\", \"says\", \"sc\", \"sd\", \"se\", \"sec\", \"second\", \"secondly\", \"section\", \"see\", \"seeing\", \"seem\", \"seemed\", \"seeming\", \"seems\", \"seen\", \"self\", \"selves\", \"sensible\", \"sent\", \"serious\", \"seriously\", \"seven\", \"several\", \"sf\", \"shall\", \"shan\", \"shan't\", \"she\", \"shed\", \"she'd\", \"she'll\", \"shes\", \"she's\", \"should\", \"shouldn\", \"shouldn't\", \"should've\", \"show\", \"showed\", \"shown\", \"showns\", \"shows\", \"si\", \"side\", \"significant\", \"significantly\", \"similar\", \"similarly\", \"since\", \"sincere\", \"six\", \"sixty\", \"sj\", \"sl\", \"slightly\", \"sm\", \"sn\", \"so\", \"some\", \"somebody\", \"somehow\", \"someone\", \"somethan\", \"something\", \"sometime\", \"sometimes\", \"somewhat\", \"somewhere\", \"soon\", \"sorry\", \"sp\", \"specifically\", \"specified\", \"specify\", \"specifying\", \"sq\", \"sr\", \"ss\", \"st\", \"still\", \"stop\", \"strongly\", \"sub\", \"substantially\", \"successfully\", \"such\", \"sufficiently\", \"suggest\", \"sup\", \"sure\", \"sy\", \"system\", \"sz\", \"t\", \"t1\", \"t2\", \"t3\", \"take\", \"taken\", \"taking\", \"tb\", \"tc\", \"td\", \"te\", \"tell\", \"ten\", \"tends\", \"tf\", \"th\", \"than\", \"thank\", \"thanks\", \"thanx\", \"that\", \"that'll\", \"thats\", \"that's\", \"that've\", \"the\", \"their\", \"theirs\", \"them\", \"themselves\", \"then\", \"thence\", \"there\", \"thereafter\", \"thereby\", \"thered\", \"therefore\", \"therein\", \"there'll\", \"thereof\", \"therere\", \"theres\", \"there's\", \"thereto\", \"thereupon\", \"there've\", \"these\", \"they\", \"theyd\", \"they'd\", \"they'll\", \"theyre\", \"they're\", \"they've\", \"thickv\", \"thin\", \"think\", \"third\", \"this\", \"thorough\", \"thoroughly\", \"those\", \"thou\", \"though\", \"thoughh\", \"thousand\", \"three\", \"throug\", \"through\", \"throughout\", \"thru\", \"thus\", \"ti\", \"til\", \"tip\", \"tj\", \"tl\", \"tm\", \"tn\", \"to\", \"together\", \"too\", \"took\", \"top\", \"toward\", \"towards\", \"tp\", \"tq\", \"tr\", \"tried\", \"tries\", \"truly\", \"try\", \"trying\", \"ts\", \"t's\", \"tt\", \"tv\", \"twelve\", \"twenty\", \"twice\", \"two\", \"tx\", \"u\", \"u201d\", \"ue\", \"ui\", \"uj\", \"uk\", \"um\", \"un\", \"under\", \"unfortunately\", \"unless\", \"unlike\", \"unlikely\", \"until\", \"unto\", \"uo\", \"up\", \"upon\", \"ups\", \"ur\", \"us\", \"use\", \"used\", \"useful\", \"usefully\", \"usefulness\", \"uses\", \"using\", \"usually\", \"ut\", \"v\", \"va\", \"value\", \"various\", \"vd\", \"ve\", \"ve\", \"very\", \"via\", \"viz\", \"vj\", \"vo\", \"vol\", \"vols\", \"volumtype\", \"vq\", \"vs\", \"vt\", \"vu\", \"w\", \"wa\", \"want\", \"wants\", \"was\", \"wasn\", \"wasnt\", \"wasn't\", \"way\", \"we\", \"wed\", \"we'd\", \"welcome\", \"well\", \"we'll\", \"well-b\", \"went\", \"were\", \"we're\", \"weren\", \"werent\", \"weren't\", \"we've\", \"what\", \"whatever\", \"what'll\", \"whats\", \"what's\", \"when\", \"whence\", \"whenever\", \"when's\", \"where\", \"whereafter\", \"whereas\", \"whereby\", \"wherein\", \"wheres\", \"where's\", \"whereupon\", \"wherever\", \"whether\", \"which\", \"while\", \"whim\", \"whither\", \"who\", \"whod\", \"whoever\", \"whole\", \"who'll\", \"whom\", \"whomever\", \"whos\", \"who's\", \"whose\", \"why\", \"why's\", \"wi\", \"widely\", \"will\", \"willing\", \"wish\", \"with\", \"within\", \"without\", \"wo\", \"won\", \"wonder\", \"wont\", \"won't\", \"words\", \"world\", \"would\", \"wouldn\", \"wouldnt\", \"wouldn't\", \"www\", \"x\", \"x1\", \"x2\", \"x3\", \"xf\", \"xi\", \"xj\", \"xk\", \"xl\", \"xn\", \"xo\", \"xs\", \"xt\", \"xv\", \"xx\", \"y\", \"y2\", \"yes\", \"yet\", \"yj\", \"yl\", \"you\", \"youd\", \"you'd\", \"you'll\", \"your\", \"youre\", \"you're\", \"yours\", \"yourself\", \"yourselves\", \"you've\", \"yr\", \"ys\", \"yt\", \"z\", \"zero\", \"zi\", \"zz\"]"
   ]
  },
  {
   "cell_type": "code",
   "execution_count": 3,
   "metadata": {
    "pycharm": {
     "name": "#%%\n"
    }
   },
   "outputs": [],
   "source": [
    "df = pd.read_parquet('USCS_Codes.parquet', columns=['section_text'])"
   ]
  },
  {
   "cell_type": "code",
   "execution_count": 4,
   "metadata": {
    "pycharm": {
     "name": "#%%\n"
    }
   },
   "outputs": [
    {
     "data": {
      "text/html": [
       "<div>\n",
       "<style scoped>\n",
       "    .dataframe tbody tr th:only-of-type {\n",
       "        vertical-align: middle;\n",
       "    }\n",
       "\n",
       "    .dataframe tbody tr th {\n",
       "        vertical-align: top;\n",
       "    }\n",
       "\n",
       "    .dataframe thead th {\n",
       "        text-align: right;\n",
       "    }\n",
       "</style>\n",
       "<table border=\"1\" class=\"dataframe\">\n",
       "  <thead>\n",
       "    <tr style=\"text-align: right;\">\n",
       "      <th></th>\n",
       "      <th>section_text</th>\n",
       "    </tr>\n",
       "  </thead>\n",
       "  <tbody>\n",
       "    <tr>\n",
       "      <th>0</th>\n",
       "      <td>In this title, the term “agency” means a depar...</td>\n",
       "    </tr>\n",
       "    <tr>\n",
       "      <th>1</th>\n",
       "      <td>In this title, the term “barge” means a non-se...</td>\n",
       "    </tr>\n",
       "    <tr>\n",
       "      <th>2</th>\n",
       "      <td>In this title, the term “Boundary Line” means ...</td>\n",
       "    </tr>\n",
       "    <tr>\n",
       "      <th>3</th>\n",
       "      <td>In this title, the term “citizen of the United...</td>\n",
       "    </tr>\n",
       "    <tr>\n",
       "      <th>4</th>\n",
       "      <td>In this title, the term “consular officer” mea...</td>\n",
       "    </tr>\n",
       "  </tbody>\n",
       "</table>\n",
       "</div>"
      ],
      "text/plain": [
       "                                        section_text\n",
       "0  In this title, the term “agency” means a depar...\n",
       "1  In this title, the term “barge” means a non-se...\n",
       "2  In this title, the term “Boundary Line” means ...\n",
       "3  In this title, the term “citizen of the United...\n",
       "4  In this title, the term “consular officer” mea..."
      ]
     },
     "execution_count": 4,
     "metadata": {},
     "output_type": "execute_result"
    }
   ],
   "source": [
    "df.head()"
   ]
  },
  {
   "cell_type": "code",
   "execution_count": 5,
   "metadata": {
    "pycharm": {
     "name": "#%%\n"
    }
   },
   "outputs": [
    {
     "data": {
      "text/plain": [
       "(58950, 1)"
      ]
     },
     "execution_count": 5,
     "metadata": {},
     "output_type": "execute_result"
    }
   ],
   "source": [
    "df.shape"
   ]
  },
  {
   "cell_type": "code",
   "execution_count": 6,
   "metadata": {
    "pycharm": {
     "name": "#%%\n"
    }
   },
   "outputs": [],
   "source": [
    "df['section_text'] = df['section_text'].replace('',np.nan)\n",
    "df = df.dropna(subset=['section_text'])"
   ]
  },
  {
   "cell_type": "code",
   "execution_count": 7,
   "metadata": {
    "pycharm": {
     "name": "#%%\n"
    }
   },
   "outputs": [
    {
     "name": "stderr",
     "output_type": "stream",
     "text": [
      "/tmp/ipykernel_18859/3702032980.py:1: FutureWarning: The default value of regex will change from True to False in a future version.\n",
      "  df['section_text'] = df['section_text'].str.replace(r'\\d+\\.\\d+','')\n",
      "/tmp/ipykernel_18859/3702032980.py:2: FutureWarning: The default value of regex will change from True to False in a future version.\n",
      "  df['section_text'] = df['section_text'].str.replace(r'\\d+-\\d+','')\n",
      "/tmp/ipykernel_18859/3702032980.py:3: FutureWarning: The default value of regex will change from True to False in a future version.\n",
      "  df['section_text'] = df['section_text'].str.replace(r'\\d+','')\n",
      "/tmp/ipykernel_18859/3702032980.py:4: FutureWarning: The default value of regex will change from True to False in a future version.\n",
      "  df['section_text'] = df['section_text'].str.replace('\\(?<ref.*?>','')\n",
      "/tmp/ipykernel_18859/3702032980.py:5: FutureWarning: The default value of regex will change from True to False in a future version.\n",
      "  df['section_text'] = df['section_text'].str.replace('</ref>\\)?','')\n",
      "/tmp/ipykernel_18859/3702032980.py:6: FutureWarning: The default value of regex will change from True to False in a future version.\n",
      "  df['section_text'] = df['section_text'].str.replace('<table.+?</table>','', flags=re.DOTALL)\n",
      "/tmp/ipykernel_18859/3702032980.py:7: FutureWarning: The default value of regex will change from True to False in a future version.\n",
      "  df['section_text'] = df['section_text'].str.replace('<\\w.+?</\\w+>','', flags=re.DOTALL)\n",
      "/tmp/ipykernel_18859/3702032980.py:8: FutureWarning: The default value of regex will change from True to False in a future version.\n",
      "  df['section_text'] = df['section_text'].str.replace('<\\w.+?>','', flags=re.DOTALL)\n",
      "/tmp/ipykernel_18859/3702032980.py:9: FutureWarning: The default value of regex will change from True to False in a future version.\n",
      "  df['section_text'] = df['section_text'].str.replace('</\\w.+?>','', flags=re.DOTALL)\n"
     ]
    }
   ],
   "source": [
    "df['section_text'] = df['section_text'].str.replace(r'\\d+\\.\\d+','')\n",
    "df['section_text'] = df['section_text'].str.replace(r'\\d+-\\d+','')\n",
    "df['section_text'] = df['section_text'].str.replace(r'\\d+','')\n",
    "df['section_text'] = df['section_text'].str.replace('\\(?<ref.*?>','')\n",
    "df['section_text'] = df['section_text'].str.replace('</ref>\\)?','')\n",
    "df['section_text'] = df['section_text'].str.replace('<table.+?</table>','', flags=re.DOTALL)\n",
    "df['section_text'] = df['section_text'].str.replace('<\\w.+?</\\w+>','', flags=re.DOTALL)\n",
    "df['section_text'] = df['section_text'].str.replace('<\\w.+?>','', flags=re.DOTALL)\n",
    "df['section_text'] = df['section_text'].str.replace('</\\w.+?>','', flags=re.DOTALL)"
   ]
  },
  {
   "cell_type": "code",
   "execution_count": 8,
   "metadata": {
    "pycharm": {
     "name": "#%%\n"
    }
   },
   "outputs": [
    {
     "data": {
      "text/plain": [
       "(40653, 1)"
      ]
     },
     "execution_count": 8,
     "metadata": {},
     "output_type": "execute_result"
    }
   ],
   "source": [
    "df = df.dropna(subset=['section_text'])\n",
    "df.shape"
   ]
  },
  {
   "cell_type": "code",
   "execution_count": 9,
   "metadata": {},
   "outputs": [
    {
     "data": {
      "text/html": [
       "<div>\n",
       "<style scoped>\n",
       "    .dataframe tbody tr th:only-of-type {\n",
       "        vertical-align: middle;\n",
       "    }\n",
       "\n",
       "    .dataframe tbody tr th {\n",
       "        vertical-align: top;\n",
       "    }\n",
       "\n",
       "    .dataframe thead th {\n",
       "        text-align: right;\n",
       "    }\n",
       "</style>\n",
       "<table border=\"1\" class=\"dataframe\">\n",
       "  <thead>\n",
       "    <tr style=\"text-align: right;\">\n",
       "      <th></th>\n",
       "      <th>section_text</th>\n",
       "    </tr>\n",
       "  </thead>\n",
       "  <tbody>\n",
       "    <tr>\n",
       "      <th>36387</th>\n",
       "      <td>Section  of this title, and sections (f) and b...</td>\n",
       "    </tr>\n",
       "    <tr>\n",
       "      <th>55492</th>\n",
       "      <td>Assessments collected under section d of this...</td>\n",
       "    </tr>\n",
       "    <tr>\n",
       "      <th>51906</th>\n",
       "      <td>For the purposes of the Federal Food, Drug, an...</td>\n",
       "    </tr>\n",
       "    <tr>\n",
       "      <th>54005</th>\n",
       "      <td>This subchapter may be cited as the “Minority-...</td>\n",
       "    </tr>\n",
       "    <tr>\n",
       "      <th>46107</th>\n",
       "      <td>Each contract in an amount greater than $, tha...</td>\n",
       "    </tr>\n",
       "    <tr>\n",
       "      <th>52095</th>\n",
       "      <td>\\n  the annual rate of pay of any individual a...</td>\n",
       "    </tr>\n",
       "    <tr>\n",
       "      <th>29958</th>\n",
       "      <td>In the event of a default of a loan guaranteed...</td>\n",
       "    </tr>\n",
       "    <tr>\n",
       "      <th>39456</th>\n",
       "      <td>\\n  The head of each national security laborat...</td>\n",
       "    </tr>\n",
       "    <tr>\n",
       "      <th>45866</th>\n",
       "      <td>unmanufactured articles, materials, and suppl...</td>\n",
       "    </tr>\n",
       "    <tr>\n",
       "      <th>14301</th>\n",
       "      <td>is a citizen or resident of the United States...</td>\n",
       "    </tr>\n",
       "    <tr>\n",
       "      <th>47832</th>\n",
       "      <td>The selection of foreign personnel for trainin...</td>\n",
       "    </tr>\n",
       "    <tr>\n",
       "      <th>55006</th>\n",
       "      <td>The Secretary of Agriculture may, upon present...</td>\n",
       "    </tr>\n",
       "    <tr>\n",
       "      <th>29923</th>\n",
       "      <td>Notwithstanding the provisions of any enabling...</td>\n",
       "    </tr>\n",
       "    <tr>\n",
       "      <th>48372</th>\n",
       "      <td>The President is authorized to prescribe such ...</td>\n",
       "    </tr>\n",
       "    <tr>\n",
       "      <th>26245</th>\n",
       "      <td>damage to or loss of real property, including...</td>\n",
       "    </tr>\n",
       "    <tr>\n",
       "      <th>12328</th>\n",
       "      <td>design the compliance surveys to ensure that ...</td>\n",
       "    </tr>\n",
       "    <tr>\n",
       "      <th>23198</th>\n",
       "      <td>\\n \\n \\n  for a specific period mutually agree...</td>\n",
       "    </tr>\n",
       "    <tr>\n",
       "      <th>1638</th>\n",
       "      <td>conduct periodic meetings with the Commission...</td>\n",
       "    </tr>\n",
       "    <tr>\n",
       "      <th>14135</th>\n",
       "      <td>\\n  regulated natural gas, and  natural gas so...</td>\n",
       "    </tr>\n",
       "    <tr>\n",
       "      <th>42261</th>\n",
       "      <td>The Director shall consult with, and consider ...</td>\n",
       "    </tr>\n",
       "  </tbody>\n",
       "</table>\n",
       "</div>"
      ],
      "text/plain": [
       "                                            section_text\n",
       "36387  Section  of this title, and sections (f) and b...\n",
       "55492   Assessments collected under section d of this...\n",
       "51906  For the purposes of the Federal Food, Drug, an...\n",
       "54005  This subchapter may be cited as the “Minority-...\n",
       "46107  Each contract in an amount greater than $, tha...\n",
       "52095  \\n  the annual rate of pay of any individual a...\n",
       "29958  In the event of a default of a loan guaranteed...\n",
       "39456  \\n  The head of each national security laborat...\n",
       "45866   unmanufactured articles, materials, and suppl...\n",
       "14301   is a citizen or resident of the United States...\n",
       "47832  The selection of foreign personnel for trainin...\n",
       "55006  The Secretary of Agriculture may, upon present...\n",
       "29923  Notwithstanding the provisions of any enabling...\n",
       "48372  The President is authorized to prescribe such ...\n",
       "26245   damage to or loss of real property, including...\n",
       "12328   design the compliance surveys to ensure that ...\n",
       "23198  \\n \\n \\n  for a specific period mutually agree...\n",
       "1638    conduct periodic meetings with the Commission...\n",
       "14135  \\n  regulated natural gas, and  natural gas so...\n",
       "42261  The Director shall consult with, and consider ..."
      ]
     },
     "execution_count": 9,
     "metadata": {},
     "output_type": "execute_result"
    }
   ],
   "source": [
    "df.sample(20, random_state=42)"
   ]
  },
  {
   "cell_type": "code",
   "execution_count": 10,
   "metadata": {},
   "outputs": [
    {
     "data": {
      "text/plain": [
       "'The head of each national security laboratory.  The Commander of the United States Strategic Command.  be comprised of weapons experts from the laboratory that does not have lead responsibility for fielding the warhead being evaluated;  have access to all surveillance and underground test data for all stockpile systems for use in the independent evaluations;  use all relevant available data to conduct independent calculations; and  pursue independent experiments to support the independent evaluations.  review both the matters covered by the assessments under subsection (a) performed by the head of that laboratory and any independent evaluations conducted by a dual validation team under subsection (c);  subject such matters to challenge; and  submit the results of such review and challenge, together with the findings and recommendations of such team with respect to such review and challenge, to the head of that laboratory.  The results of each such assessment.  an identification of the specific underground nuclear tests that are necessary to resolve such issues; and  a discussion of why options other than an underground nuclear test are not available or would not resolve such issues.  An identification of the specific underground nuclear tests which, while not necessary, might have value in resolving any such issues and a discussion of the anticipated value of conducting such tests.  Such official’s determination as to the readiness of the United States to conduct the underground nuclear tests identified under subparagraphs (A)(i) and (B), if directed by the President to do so.  a concise statement regarding the adequacy of the science-based tools and methods, including with respect to cyber assurance, being used to determine the matters covered by the assessments;  a concise statement regarding the adequacy of the tools and methods employed by the manufacturing infrastructure required by section  of this title to identify and fix any inadequacy with respect to the matters covered by the assessments, and the confidence of the head in such tools and methods;  a concise summary of the findings and recommendations of any teams under subsection (d) that relate to the assessments, together with a discussion of those findings and recommendations;  a concise summary of the results of any independent evaluation conducted by a dual validation team under subsection (c); and  a concise summary of any significant finding investigations initiated or active during the previous year for which the head of the national security laboratory has full or partial responsibility.  a discussion of the relative merits of other nuclear weapon types (if any), or compensatory measures (if any) that could be taken, that could enable accomplishment of the missions of the nuclear weapon types to which the assessments relate, should such assessments identify any deficiency with respect to such nuclear weapon types;  a summary of all major assembly releases in place as of the date of the report for the active and inactive nuclear weapon stockpiles; and  the views of the Commander on the stockpile responsiveness program under section b of this title, the activities conducted under such program, and any suggestions to improve such program.  An identification and discussion of any matter having an adverse effect on the capability of the official submitting the report to accurately determine the matters covered by the assessments.  each report, without change, submitted to either Secretary under subsection (e) during the preceding year;  any comments that the Secretaries individually or jointly consider appropriate with respect to each such report;  the conclusions that the Secretaries individually or jointly reach as to the safety, reliability, performance, and military effectiveness of the nuclear weapons stockpile of the United States; and  any other information that the Secretaries individually or jointly consider appropriate.  Not later than March  of each year, the President shall forward to Congress the matters received by the President under paragraph () for that year, together with any comments the President considers appropriate.  If the President does not forward to Congress the matters required under paragraph () by the date required by such paragraph, the officials specified in subsection (b) shall provide a briefing to the congressional defense committees not later than March  on the report such officials submitted to the Secretary concerned under subsection (e). \\n  the Secretary of Energy, with respect to matters concerning the Department of Energy; and  the Secretary of Defense, with respect to matters concerning the Department of Defense.'"
      ]
     },
     "execution_count": 10,
     "metadata": {},
     "output_type": "execute_result"
    }
   ],
   "source": [
    "sentence = df.loc[39456,'section_text']\n",
    "sentence = sentence.strip()\n",
    "sentence"
   ]
  },
  {
   "cell_type": "markdown",
   "metadata": {
    "pycharm": {
     "name": "#%%\n"
    }
   },
   "source": [
    "extractor = pke.unsupervised.TopicalPageRank()"
   ]
  },
  {
   "cell_type": "markdown",
   "metadata": {},
   "source": [
    "extractor.load_document(input=sentence,\n",
    "                        language='en',\n",
    "                        normalization=None)"
   ]
  },
  {
   "cell_type": "markdown",
   "metadata": {},
   "source": [
    "pos = {'NOUN', 'PROPN', 'ADJ'}\n",
    "grammar = \"NP: {<ADJ>*<NOUN|PROPN>+}\"\n",
    "extractor.candidate_selection(grammar=grammar)"
   ]
  },
  {
   "cell_type": "markdown",
   "metadata": {},
   "source": [
    "extractor.candidate_weighting(window=10,\n",
    "                              pos=pos,\n",
    "                              lda_model='lda-by-section-text-1-gram-100-topics.gz')"
   ]
  },
  {
   "cell_type": "markdown",
   "metadata": {},
   "source": [
    "keyphrases = extractor.get_n_best(n=30)"
   ]
  },
  {
   "cell_type": "markdown",
   "metadata": {},
   "source": [
    "keyphrases"
   ]
  },
  {
   "cell_type": "code",
   "execution_count": 11,
   "metadata": {},
   "outputs": [],
   "source": [
    "def extract_keywords(sentence):\n",
    "    try:\n",
    "        extractor = pke.unsupervised.TopicalPageRank()\n",
    "        extractor.load_document(input=sentence,\n",
    "                            language='en',\n",
    "                            normalization=None)\n",
    "        pos = {'NOUN', 'PROPN', 'ADJ'}\n",
    "        grammar = \"NP: {<ADJ>*<NOUN|PROPN>+}\"\n",
    "        extractor.candidate_selection(grammar=grammar)\n",
    "        extractor.candidate_weighting(window=10,\n",
    "                                  pos=pos,\n",
    "                                  lda_model='lda-by-section-text-1-gram-100-topics.gz')\n",
    "        keywords = extractor.get_n_best(n=30)\n",
    "        return np.asarray(keywords).flatten()\n",
    "    except Exception as e:\n",
    "        print(e)\n",
    "        return np.full(60, np.nan)"
   ]
  },
  {
   "cell_type": "code",
   "execution_count": 12,
   "metadata": {},
   "outputs": [
    {
     "data": {
      "application/vnd.jupyter.widget-view+json": {
       "model_id": "e23e871514ec436c942be6278833448f",
       "version_major": 2,
       "version_minor": 0
      },
      "text/plain": [
       "VBox(children=(HBox(children=(IntProgress(value=0, description='0.00%', max=125), Label(value='0 / 125'))), HB…"
      ]
     },
     "metadata": {},
     "output_type": "display_data"
    },
    {
     "name": "stderr",
     "output_type": "stream",
     "text": [
      "/home/jameslittiebrant/anaconda3/envs/keyword/lib/python3.8/site-packages/sklearn/feature_extraction/text.py:394: UserWarning: Your stop_words may be inconsistent with your preprocessing. Tokenizing the stop words generated tokens ['ll', 've'] not in stop_words.\n",
      "  warnings.warn(\n",
      "/home/jameslittiebrant/anaconda3/envs/keyword/lib/python3.8/site-packages/sklearn/feature_extraction/text.py:394: UserWarning: Your stop_words may be inconsistent with your preprocessing. Tokenizing the stop words generated tokens ['ll', 've'] not in stop_words.\n",
      "  warnings.warn(\n",
      "/home/jameslittiebrant/anaconda3/envs/keyword/lib/python3.8/site-packages/sklearn/feature_extraction/text.py:394: UserWarning: Your stop_words may be inconsistent with your preprocessing. Tokenizing the stop words generated tokens ['ll', 've'] not in stop_words.\n",
      "  warnings.warn(\n",
      "/home/jameslittiebrant/anaconda3/envs/keyword/lib/python3.8/site-packages/sklearn/feature_extraction/text.py:394: UserWarning: Your stop_words may be inconsistent with your preprocessing. Tokenizing the stop words generated tokens ['ll', 've'] not in stop_words.\n",
      "  warnings.warn(\n",
      "/home/jameslittiebrant/anaconda3/envs/keyword/lib/python3.8/site-packages/sklearn/feature_extraction/text.py:394: UserWarning: Your stop_words may be inconsistent with your preprocessing. Tokenizing the stop words generated tokens ['ll', 've'] not in stop_words.\n",
      "  warnings.warn(\n",
      "/home/jameslittiebrant/anaconda3/envs/keyword/lib/python3.8/site-packages/sklearn/feature_extraction/text.py:394: UserWarning: Your stop_words may be inconsistent with your preprocessing. Tokenizing the stop words generated tokens ['ll', 've'] not in stop_words.\n",
      "  warnings.warn(\n",
      "/home/jameslittiebrant/anaconda3/envs/keyword/lib/python3.8/site-packages/sklearn/feature_extraction/text.py:394: UserWarning: Your stop_words may be inconsistent with your preprocessing. Tokenizing the stop words generated tokens ['ll', 've'] not in stop_words.\n",
      "  warnings.warn(\n",
      "/home/jameslittiebrant/anaconda3/envs/keyword/lib/python3.8/site-packages/sklearn/feature_extraction/text.py:394: UserWarning: Your stop_words may be inconsistent with your preprocessing. Tokenizing the stop words generated tokens ['ll', 've'] not in stop_words.\n",
      "  warnings.warn(\n"
     ]
    },
    {
     "name": "stdout",
     "output_type": "stream",
     "text": [
      "min() arg is an empty sequence\n",
      "CPU times: user 1.22 s, sys: 262 ms, total: 1.49 s\n",
      "Wall time: 2min 27s\n"
     ]
    }
   ],
   "source": [
    "%%time\n",
    "extracted_keywords = df.iloc[:1000]['section_text'].parallel_apply(extract_keywords)"
   ]
  },
  {
   "cell_type": "code",
   "execution_count": 15,
   "metadata": {},
   "outputs": [
    {
     "data": {
      "text/plain": [
       "1000"
      ]
     },
     "execution_count": 15,
     "metadata": {},
     "output_type": "execute_result"
    }
   ],
   "source": [
    "len(extracted_keywords)"
   ]
  },
  {
   "cell_type": "code",
   "execution_count": 16,
   "metadata": {},
   "outputs": [
    {
     "data": {
      "text/plain": [
       "array(['united states government', '0.32452084319474295', 'agency',\n",
       "       '0.23522798223988686', 'department', '0.1440873738094213',\n",
       "       'instrumentality', '0.12914915361738719', 'term',\n",
       "       '0.09613003985405615', 'title', '0.0708846072845056'], dtype='<U32')"
      ]
     },
     "execution_count": 16,
     "metadata": {},
     "output_type": "execute_result"
    }
   ],
   "source": [
    "extracted_keywords[0]"
   ]
  },
  {
   "cell_type": "code",
   "execution_count": 17,
   "metadata": {},
   "outputs": [
    {
     "name": "stdout",
     "output_type": "stream",
     "text": [
      "CPU times: user 13.8 ms, sys: 4.29 ms, total: 18 ms\n",
      "Wall time: 16.5 ms\n"
     ]
    }
   ],
   "source": [
    "%%time\n",
    "keyword_df = pd.DataFrame.from_records(extracted_keywords)"
   ]
  },
  {
   "cell_type": "code",
   "execution_count": 18,
   "metadata": {},
   "outputs": [
    {
     "data": {
      "text/html": [
       "<div>\n",
       "<style scoped>\n",
       "    .dataframe tbody tr th:only-of-type {\n",
       "        vertical-align: middle;\n",
       "    }\n",
       "\n",
       "    .dataframe tbody tr th {\n",
       "        vertical-align: top;\n",
       "    }\n",
       "\n",
       "    .dataframe thead th {\n",
       "        text-align: right;\n",
       "    }\n",
       "</style>\n",
       "<table border=\"1\" class=\"dataframe\">\n",
       "  <thead>\n",
       "    <tr style=\"text-align: right;\">\n",
       "      <th></th>\n",
       "      <th>0</th>\n",
       "      <th>1</th>\n",
       "      <th>2</th>\n",
       "      <th>3</th>\n",
       "      <th>4</th>\n",
       "      <th>5</th>\n",
       "      <th>6</th>\n",
       "      <th>7</th>\n",
       "      <th>8</th>\n",
       "      <th>9</th>\n",
       "      <th>...</th>\n",
       "      <th>50</th>\n",
       "      <th>51</th>\n",
       "      <th>52</th>\n",
       "      <th>53</th>\n",
       "      <th>54</th>\n",
       "      <th>55</th>\n",
       "      <th>56</th>\n",
       "      <th>57</th>\n",
       "      <th>58</th>\n",
       "      <th>59</th>\n",
       "    </tr>\n",
       "  </thead>\n",
       "  <tbody>\n",
       "    <tr>\n",
       "      <th>0</th>\n",
       "      <td>united states government</td>\n",
       "      <td>0.32452084319474295</td>\n",
       "      <td>agency</td>\n",
       "      <td>0.23522798223988686</td>\n",
       "      <td>department</td>\n",
       "      <td>0.1440873738094213</td>\n",
       "      <td>instrumentality</td>\n",
       "      <td>0.12914915361738719</td>\n",
       "      <td>term</td>\n",
       "      <td>0.09613003985405615</td>\n",
       "      <td>...</td>\n",
       "      <td>None</td>\n",
       "      <td>None</td>\n",
       "      <td>None</td>\n",
       "      <td>None</td>\n",
       "      <td>None</td>\n",
       "      <td>None</td>\n",
       "      <td>None</td>\n",
       "      <td>None</td>\n",
       "      <td>None</td>\n",
       "      <td>None</td>\n",
       "    </tr>\n",
       "    <tr>\n",
       "      <th>1</th>\n",
       "      <td>barge</td>\n",
       "      <td>0.305840414561605</td>\n",
       "      <td>term</td>\n",
       "      <td>0.2878989545376075</td>\n",
       "      <td>vessel</td>\n",
       "      <td>0.2203936170567775</td>\n",
       "      <td>title</td>\n",
       "      <td>0.18586701384400994</td>\n",
       "      <td>None</td>\n",
       "      <td>None</td>\n",
       "      <td>...</td>\n",
       "      <td>None</td>\n",
       "      <td>None</td>\n",
       "      <td>None</td>\n",
       "      <td>None</td>\n",
       "      <td>None</td>\n",
       "      <td>None</td>\n",
       "      <td>None</td>\n",
       "      <td>None</td>\n",
       "      <td>None</td>\n",
       "      <td>None</td>\n",
       "    </tr>\n",
       "    <tr>\n",
       "      <th>2</th>\n",
       "      <td>boundary line</td>\n",
       "      <td>0.2914548781106909</td>\n",
       "      <td>line</td>\n",
       "      <td>0.18639159200566321</td>\n",
       "      <td>b</td>\n",
       "      <td>0.15638689257624067</td>\n",
       "      <td>section</td>\n",
       "      <td>0.11017287215077232</td>\n",
       "      <td>act</td>\n",
       "      <td>0.10752529901138894</td>\n",
       "      <td>...</td>\n",
       "      <td>None</td>\n",
       "      <td>None</td>\n",
       "      <td>None</td>\n",
       "      <td>None</td>\n",
       "      <td>None</td>\n",
       "      <td>None</td>\n",
       "      <td>None</td>\n",
       "      <td>None</td>\n",
       "      <td>None</td>\n",
       "      <td>None</td>\n",
       "    </tr>\n",
       "    <tr>\n",
       "      <th>3</th>\n",
       "      <td>united states</td>\n",
       "      <td>0.24480042645505135</td>\n",
       "      <td>nationality act</td>\n",
       "      <td>0.10710640802738752</td>\n",
       "      <td>natural person</td>\n",
       "      <td>0.08369945166249815</td>\n",
       "      <td>immigration</td>\n",
       "      <td>0.06996853544733139</td>\n",
       "      <td>citizen</td>\n",
       "      <td>0.06505293866751755</td>\n",
       "      <td>...</td>\n",
       "      <td>None</td>\n",
       "      <td>None</td>\n",
       "      <td>None</td>\n",
       "      <td>None</td>\n",
       "      <td>None</td>\n",
       "      <td>None</td>\n",
       "      <td>None</td>\n",
       "      <td>None</td>\n",
       "      <td>None</td>\n",
       "      <td>None</td>\n",
       "    </tr>\n",
       "    <tr>\n",
       "      <th>4</th>\n",
       "      <td>united states government</td>\n",
       "      <td>0.30240891688251237</td>\n",
       "      <td>consular officer</td>\n",
       "      <td>0.2734307930406615</td>\n",
       "      <td>officer</td>\n",
       "      <td>0.1796498135823231</td>\n",
       "      <td>employee</td>\n",
       "      <td>0.12428749820775362</td>\n",
       "      <td>term</td>\n",
       "      <td>0.09465959504666037</td>\n",
       "      <td>...</td>\n",
       "      <td>None</td>\n",
       "      <td>None</td>\n",
       "      <td>None</td>\n",
       "      <td>None</td>\n",
       "      <td>None</td>\n",
       "      <td>None</td>\n",
       "      <td>None</td>\n",
       "      <td>None</td>\n",
       "      <td>None</td>\n",
       "      <td>None</td>\n",
       "    </tr>\n",
       "    <tr>\n",
       "      <th>...</th>\n",
       "      <td>...</td>\n",
       "      <td>...</td>\n",
       "      <td>...</td>\n",
       "      <td>...</td>\n",
       "      <td>...</td>\n",
       "      <td>...</td>\n",
       "      <td>...</td>\n",
       "      <td>...</td>\n",
       "      <td>...</td>\n",
       "      <td>...</td>\n",
       "      <td>...</td>\n",
       "      <td>...</td>\n",
       "      <td>...</td>\n",
       "      <td>...</td>\n",
       "      <td>...</td>\n",
       "      <td>...</td>\n",
       "      <td>...</td>\n",
       "      <td>...</td>\n",
       "      <td>...</td>\n",
       "      <td>...</td>\n",
       "      <td>...</td>\n",
       "    </tr>\n",
       "    <tr>\n",
       "      <th>995</th>\n",
       "      <td>allied health professions personnel</td>\n",
       "      <td>0.13007213802122203</td>\n",
       "      <td>allied health</td>\n",
       "      <td>0.0878621331465079</td>\n",
       "      <td>health care</td>\n",
       "      <td>0.07699790328107378</td>\n",
       "      <td>health</td>\n",
       "      <td>0.06058114811384447</td>\n",
       "      <td>private nonprofit institutions</td>\n",
       "      <td>0.05965938071529713</td>\n",
       "      <td>...</td>\n",
       "      <td>training</td>\n",
       "      <td>0.016835583569350346</td>\n",
       "      <td>disease</td>\n",
       "      <td>0.015998708682247224</td>\n",
       "      <td>grants</td>\n",
       "      <td>0.01585407036403614</td>\n",
       "      <td>problems</td>\n",
       "      <td>0.015848132302927392</td>\n",
       "      <td>processes</td>\n",
       "      <td>0.015277769593156795</td>\n",
       "    </tr>\n",
       "    <tr>\n",
       "      <th>996</th>\n",
       "      <td>ruth l. kirschstein national research service ...</td>\n",
       "      <td>0.0942565678676813</td>\n",
       "      <td>research training</td>\n",
       "      <td>0.056428405743127956</td>\n",
       "      <td>clinical research</td>\n",
       "      <td>0.054161407225411615</td>\n",
       "      <td>patient care costs</td>\n",
       "      <td>0.0493173769653614</td>\n",
       "      <td>national institute</td>\n",
       "      <td>0.04717874322824121</td>\n",
       "      <td>...</td>\n",
       "      <td>rural populations</td>\n",
       "      <td>0.020488303807831804</td>\n",
       "      <td>cooperative agreements</td>\n",
       "      <td>0.020424173499368054</td>\n",
       "      <td>special needs</td>\n",
       "      <td>0.018653917739202948</td>\n",
       "      <td>public</td>\n",
       "      <td>0.0179187167150347</td>\n",
       "      <td>cooperative agreement</td>\n",
       "      <td>0.017869635056855043</td>\n",
       "    </tr>\n",
       "    <tr>\n",
       "      <th>997</th>\n",
       "      <td>claude d. pepper older americans independence ...</td>\n",
       "      <td>0.15021214076290557</td>\n",
       "      <td>such centers</td>\n",
       "      <td>0.07147978653432456</td>\n",
       "      <td>private nonprofit entities</td>\n",
       "      <td>0.06395848779728777</td>\n",
       "      <td>such center</td>\n",
       "      <td>0.06203905305386691</td>\n",
       "      <td>cooperative agreements</td>\n",
       "      <td>0.05976793869220047</td>\n",
       "      <td>...</td>\n",
       "      <td>training</td>\n",
       "      <td>0.016507826688216917</td>\n",
       "      <td>director</td>\n",
       "      <td>0.01634376190326323</td>\n",
       "      <td>diseases</td>\n",
       "      <td>0.015468890668209698</td>\n",
       "      <td>respect</td>\n",
       "      <td>0.014599411953904141</td>\n",
       "      <td>assistance</td>\n",
       "      <td>0.01326770062762865</td>\n",
       "    </tr>\n",
       "    <tr>\n",
       "      <th>998</th>\n",
       "      <td>such awards</td>\n",
       "      <td>0.12048854630796349</td>\n",
       "      <td>senior researchers</td>\n",
       "      <td>0.08752428860954818</td>\n",
       "      <td>awards</td>\n",
       "      <td>0.08610553843450111</td>\n",
       "      <td>junior researchers</td>\n",
       "      <td>0.0818925070743766</td>\n",
       "      <td>such areas</td>\n",
       "      <td>0.07319699540051897</td>\n",
       "      <td>...</td>\n",
       "      <td>centers</td>\n",
       "      <td>0.019003763161680454</td>\n",
       "      <td>title</td>\n",
       "      <td>0.01872232544645817</td>\n",
       "      <td>aging</td>\n",
       "      <td>0.015362852789767697</td>\n",
       "      <td>procedures</td>\n",
       "      <td>0.013256247937296179</td>\n",
       "      <td>selection</td>\n",
       "      <td>0.012525226270423236</td>\n",
       "    </tr>\n",
       "    <tr>\n",
       "      <th>999</th>\n",
       "      <td>health care professionals</td>\n",
       "      <td>0.07047001331927945</td>\n",
       "      <td>health care paraprofessionals</td>\n",
       "      <td>0.06668317346303254</td>\n",
       "      <td>related dementias</td>\n",
       "      <td>0.06496783696565465</td>\n",
       "      <td>other federal programs</td>\n",
       "      <td>0.06386351502848647</td>\n",
       "      <td>other programs</td>\n",
       "      <td>0.04983657195902727</td>\n",
       "      <td>...</td>\n",
       "      <td>secondary disabilities</td>\n",
       "      <td>0.0177718592746691</td>\n",
       "      <td>persons</td>\n",
       "      <td>0.017637073610060075</td>\n",
       "      <td>national institute</td>\n",
       "      <td>0.016975781001972473</td>\n",
       "      <td>community organizations</td>\n",
       "      <td>0.01572983626988365</td>\n",
       "      <td>adverse effects</td>\n",
       "      <td>0.014928412352711425</td>\n",
       "    </tr>\n",
       "  </tbody>\n",
       "</table>\n",
       "<p>1000 rows × 60 columns</p>\n",
       "</div>"
      ],
      "text/plain": [
       "                                                    0                    1   \\\n",
       "0                             united states government  0.32452084319474295   \n",
       "1                                                barge    0.305840414561605   \n",
       "2                                        boundary line   0.2914548781106909   \n",
       "3                                        united states  0.24480042645505135   \n",
       "4                             united states government  0.30240891688251237   \n",
       "..                                                 ...                  ...   \n",
       "995                allied health professions personnel  0.13007213802122203   \n",
       "996  ruth l. kirschstein national research service ...   0.0942565678676813   \n",
       "997  claude d. pepper older americans independence ...  0.15021214076290557   \n",
       "998                                        such awards  0.12048854630796349   \n",
       "999                          health care professionals  0.07047001331927945   \n",
       "\n",
       "                                2                     3   \\\n",
       "0                           agency   0.23522798223988686   \n",
       "1                             term    0.2878989545376075   \n",
       "2                             line   0.18639159200566321   \n",
       "3                  nationality act   0.10710640802738752   \n",
       "4                 consular officer    0.2734307930406615   \n",
       "..                             ...                   ...   \n",
       "995                  allied health    0.0878621331465079   \n",
       "996              research training  0.056428405743127956   \n",
       "997                   such centers   0.07147978653432456   \n",
       "998             senior researchers   0.08752428860954818   \n",
       "999  health care paraprofessionals   0.06668317346303254   \n",
       "\n",
       "                             4                     5                       6   \\\n",
       "0                    department    0.1440873738094213         instrumentality   \n",
       "1                        vessel    0.2203936170567775                   title   \n",
       "2                             b   0.15638689257624067                 section   \n",
       "3                natural person   0.08369945166249815             immigration   \n",
       "4                       officer    0.1796498135823231                employee   \n",
       "..                          ...                   ...                     ...   \n",
       "995                 health care   0.07699790328107378                  health   \n",
       "996           clinical research  0.054161407225411615      patient care costs   \n",
       "997  private nonprofit entities   0.06395848779728777             such center   \n",
       "998                      awards   0.08610553843450111      junior researchers   \n",
       "999           related dementias   0.06496783696565465  other federal programs   \n",
       "\n",
       "                      7                               8                    9   \\\n",
       "0    0.12914915361738719                            term  0.09613003985405615   \n",
       "1    0.18586701384400994                            None                 None   \n",
       "2    0.11017287215077232                             act  0.10752529901138894   \n",
       "3    0.06996853544733139                         citizen  0.06505293866751755   \n",
       "4    0.12428749820775362                            term  0.09465959504666037   \n",
       "..                   ...                             ...                  ...   \n",
       "995  0.06058114811384447  private nonprofit institutions  0.05965938071529713   \n",
       "996   0.0493173769653614              national institute  0.04717874322824121   \n",
       "997  0.06203905305386691          cooperative agreements  0.05976793869220047   \n",
       "998   0.0818925070743766                      such areas  0.07319699540051897   \n",
       "999  0.06386351502848647                  other programs  0.04983657195902727   \n",
       "\n",
       "     ...                      50                    51  \\\n",
       "0    ...                    None                  None   \n",
       "1    ...                    None                  None   \n",
       "2    ...                    None                  None   \n",
       "3    ...                    None                  None   \n",
       "4    ...                    None                  None   \n",
       "..   ...                     ...                   ...   \n",
       "995  ...                training  0.016835583569350346   \n",
       "996  ...       rural populations  0.020488303807831804   \n",
       "997  ...                training  0.016507826688216917   \n",
       "998  ...                 centers  0.019003763161680454   \n",
       "999  ...  secondary disabilities    0.0177718592746691   \n",
       "\n",
       "                         52                    53                  54  \\\n",
       "0                      None                  None                None   \n",
       "1                      None                  None                None   \n",
       "2                      None                  None                None   \n",
       "3                      None                  None                None   \n",
       "4                      None                  None                None   \n",
       "..                      ...                   ...                 ...   \n",
       "995                 disease  0.015998708682247224              grants   \n",
       "996  cooperative agreements  0.020424173499368054       special needs   \n",
       "997                director   0.01634376190326323            diseases   \n",
       "998                   title   0.01872232544645817               aging   \n",
       "999                 persons  0.017637073610060075  national institute   \n",
       "\n",
       "                       55                       56                    57  \\\n",
       "0                    None                     None                  None   \n",
       "1                    None                     None                  None   \n",
       "2                    None                     None                  None   \n",
       "3                    None                     None                  None   \n",
       "4                    None                     None                  None   \n",
       "..                    ...                      ...                   ...   \n",
       "995   0.01585407036403614                 problems  0.015848132302927392   \n",
       "996  0.018653917739202948                   public    0.0179187167150347   \n",
       "997  0.015468890668209698                  respect  0.014599411953904141   \n",
       "998  0.015362852789767697               procedures  0.013256247937296179   \n",
       "999  0.016975781001972473  community organizations   0.01572983626988365   \n",
       "\n",
       "                        58                    59  \n",
       "0                     None                  None  \n",
       "1                     None                  None  \n",
       "2                     None                  None  \n",
       "3                     None                  None  \n",
       "4                     None                  None  \n",
       "..                     ...                   ...  \n",
       "995              processes  0.015277769593156795  \n",
       "996  cooperative agreement  0.017869635056855043  \n",
       "997             assistance   0.01326770062762865  \n",
       "998              selection  0.012525226270423236  \n",
       "999        adverse effects  0.014928412352711425  \n",
       "\n",
       "[1000 rows x 60 columns]"
      ]
     },
     "execution_count": 18,
     "metadata": {},
     "output_type": "execute_result"
    }
   ],
   "source": [
    "keyword_df"
   ]
  },
  {
   "cell_type": "code",
   "execution_count": 3,
   "metadata": {},
   "outputs": [],
   "source": [
    "keyword_df = pd.concat([pd.read_parquet('keywords-0-15000-1gram-30-1000-topics.parquet'),\n",
    "                        pd.read_parquet('keywords-15000-30000-1gram-30-1000-topics.parquet'),\n",
    "                        pd.read_parquet('keywords-30000-end-1gram-30-1000-topics.parquet')],axis=0)"
   ]
  },
  {
   "cell_type": "code",
   "execution_count": 5,
   "metadata": {},
   "outputs": [],
   "source": [
    "keyword_df.columns = [str(x) for x in keyword_df.columns]"
   ]
  },
  {
   "cell_type": "code",
   "execution_count": 6,
   "metadata": {},
   "outputs": [],
   "source": [
    "terms = ['term_{}'.format(x) for x in range(30)]\n",
    "term_value = ['term_value_{}'.format(x) for x in range(30)]"
   ]
  },
  {
   "cell_type": "code",
   "execution_count": 9,
   "metadata": {},
   "outputs": [],
   "source": [
    "columns = np.asarray(list(zip(terms,term_value))).flatten()"
   ]
  },
  {
   "cell_type": "code",
   "execution_count": 10,
   "metadata": {},
   "outputs": [
    {
     "data": {
      "text/plain": [
       "array(['term_0', 'term_value_0', 'term_1', 'term_value_1', 'term_2',\n",
       "       'term_value_2', 'term_3', 'term_value_3', 'term_4', 'term_value_4',\n",
       "       'term_5', 'term_value_5', 'term_6', 'term_value_6', 'term_7',\n",
       "       'term_value_7', 'term_8', 'term_value_8', 'term_9', 'term_value_9',\n",
       "       'term_10', 'term_value_10', 'term_11', 'term_value_11', 'term_12',\n",
       "       'term_value_12', 'term_13', 'term_value_13', 'term_14',\n",
       "       'term_value_14', 'term_15', 'term_value_15', 'term_16',\n",
       "       'term_value_16', 'term_17', 'term_value_17', 'term_18',\n",
       "       'term_value_18', 'term_19', 'term_value_19', 'term_20',\n",
       "       'term_value_20', 'term_21', 'term_value_21', 'term_22',\n",
       "       'term_value_22', 'term_23', 'term_value_23', 'term_24',\n",
       "       'term_value_24', 'term_25', 'term_value_25', 'term_26',\n",
       "       'term_value_26', 'term_27', 'term_value_27', 'term_28',\n",
       "       'term_value_28', 'term_29', 'term_value_29'], dtype='<U13')"
      ]
     },
     "execution_count": 10,
     "metadata": {},
     "output_type": "execute_result"
    }
   ],
   "source": [
    "columns"
   ]
  },
  {
   "cell_type": "code",
   "execution_count": 11,
   "metadata": {},
   "outputs": [],
   "source": [
    "keyword_df.columns = columns"
   ]
  },
  {
   "cell_type": "code",
   "execution_count": 13,
   "metadata": {},
   "outputs": [],
   "source": [
    "df = pd.read_parquet('USCS_Codes.parquet')"
   ]
  },
  {
   "cell_type": "code",
   "execution_count": 14,
   "metadata": {},
   "outputs": [
    {
     "data": {
      "text/html": [
       "<div>\n",
       "<style scoped>\n",
       "    .dataframe tbody tr th:only-of-type {\n",
       "        vertical-align: middle;\n",
       "    }\n",
       "\n",
       "    .dataframe tbody tr th {\n",
       "        vertical-align: top;\n",
       "    }\n",
       "\n",
       "    .dataframe thead th {\n",
       "        text-align: right;\n",
       "    }\n",
       "</style>\n",
       "<table border=\"1\" class=\"dataframe\">\n",
       "  <thead>\n",
       "    <tr style=\"text-align: right;\">\n",
       "      <th></th>\n",
       "      <th>chapter_id</th>\n",
       "      <th>chapter_number</th>\n",
       "      <th>chapter_header</th>\n",
       "      <th>section_id</th>\n",
       "      <th>section_number</th>\n",
       "      <th>section_header</th>\n",
       "      <th>section_text</th>\n",
       "    </tr>\n",
       "  </thead>\n",
       "  <tbody>\n",
       "    <tr>\n",
       "      <th>0</th>\n",
       "      <td>/us/usc/t46/stI/ch1</td>\n",
       "      <td>1</td>\n",
       "      <td>DEFINITIONS</td>\n",
       "      <td>/us/usc/t46/s101</td>\n",
       "      <td>101</td>\n",
       "      <td>Agency</td>\n",
       "      <td>In this title, the term “agency” means a depar...</td>\n",
       "    </tr>\n",
       "    <tr>\n",
       "      <th>1</th>\n",
       "      <td>/us/usc/t46/stI/ch1</td>\n",
       "      <td>1</td>\n",
       "      <td>DEFINITIONS</td>\n",
       "      <td>/us/usc/t46/s102</td>\n",
       "      <td>102</td>\n",
       "      <td>Barge</td>\n",
       "      <td>In this title, the term “barge” means a non-se...</td>\n",
       "    </tr>\n",
       "    <tr>\n",
       "      <th>2</th>\n",
       "      <td>/us/usc/t46/stI/ch1</td>\n",
       "      <td>1</td>\n",
       "      <td>DEFINITIONS</td>\n",
       "      <td>/us/usc/t46/s103</td>\n",
       "      <td>103</td>\n",
       "      <td>Boundary Line</td>\n",
       "      <td>In this title, the term “Boundary Line” means ...</td>\n",
       "    </tr>\n",
       "    <tr>\n",
       "      <th>3</th>\n",
       "      <td>/us/usc/t46/stI/ch1</td>\n",
       "      <td>1</td>\n",
       "      <td>DEFINITIONS</td>\n",
       "      <td>/us/usc/t46/s104</td>\n",
       "      <td>104</td>\n",
       "      <td>Citizen of the United States</td>\n",
       "      <td>In this title, the term “citizen of the United...</td>\n",
       "    </tr>\n",
       "    <tr>\n",
       "      <th>4</th>\n",
       "      <td>/us/usc/t46/stI/ch1</td>\n",
       "      <td>1</td>\n",
       "      <td>DEFINITIONS</td>\n",
       "      <td>/us/usc/t46/s105</td>\n",
       "      <td>105</td>\n",
       "      <td>Consular officer</td>\n",
       "      <td>In this title, the term “consular officer” mea...</td>\n",
       "    </tr>\n",
       "  </tbody>\n",
       "</table>\n",
       "</div>"
      ],
      "text/plain": [
       "            chapter_id chapter_number chapter_header        section_id  \\\n",
       "0  /us/usc/t46/stI/ch1              1    DEFINITIONS  /us/usc/t46/s101   \n",
       "1  /us/usc/t46/stI/ch1              1    DEFINITIONS  /us/usc/t46/s102   \n",
       "2  /us/usc/t46/stI/ch1              1    DEFINITIONS  /us/usc/t46/s103   \n",
       "3  /us/usc/t46/stI/ch1              1    DEFINITIONS  /us/usc/t46/s104   \n",
       "4  /us/usc/t46/stI/ch1              1    DEFINITIONS  /us/usc/t46/s105   \n",
       "\n",
       "  section_number                section_header  \\\n",
       "0            101                        Agency   \n",
       "1            102                         Barge   \n",
       "2            103                 Boundary Line   \n",
       "3            104  Citizen of the United States   \n",
       "4            105              Consular officer   \n",
       "\n",
       "                                        section_text  \n",
       "0  In this title, the term “agency” means a depar...  \n",
       "1  In this title, the term “barge” means a non-se...  \n",
       "2  In this title, the term “Boundary Line” means ...  \n",
       "3  In this title, the term “citizen of the United...  \n",
       "4  In this title, the term “consular officer” mea...  "
      ]
     },
     "execution_count": 14,
     "metadata": {},
     "output_type": "execute_result"
    }
   ],
   "source": [
    "df.head()"
   ]
  },
  {
   "cell_type": "code",
   "execution_count": 15,
   "metadata": {},
   "outputs": [
    {
     "name": "stderr",
     "output_type": "stream",
     "text": [
      "/tmp/ipykernel_36077/432106249.py:3: FutureWarning: The default value of regex will change from True to False in a future version.\n",
      "  df['section_text'] = df['section_text'].str.replace(r'\\d+\\.\\d+','')\n",
      "/tmp/ipykernel_36077/432106249.py:4: FutureWarning: The default value of regex will change from True to False in a future version.\n",
      "  df['section_text'] = df['section_text'].str.replace(r'\\d+-\\d+','')\n",
      "/tmp/ipykernel_36077/432106249.py:5: FutureWarning: The default value of regex will change from True to False in a future version.\n",
      "  df['section_text'] = df['section_text'].str.replace(r'\\d+','')\n",
      "/tmp/ipykernel_36077/432106249.py:6: FutureWarning: The default value of regex will change from True to False in a future version.\n",
      "  df['section_text'] = df['section_text'].str.replace('\\(?<ref.*?>','')\n",
      "/tmp/ipykernel_36077/432106249.py:7: FutureWarning: The default value of regex will change from True to False in a future version.\n",
      "  df['section_text'] = df['section_text'].str.replace('</ref>\\)?','')\n",
      "/tmp/ipykernel_36077/432106249.py:8: FutureWarning: The default value of regex will change from True to False in a future version.\n",
      "  df['section_text'] = df['section_text'].str.replace('<table.+?</table>','', flags=re.DOTALL)\n",
      "/tmp/ipykernel_36077/432106249.py:9: FutureWarning: The default value of regex will change from True to False in a future version.\n",
      "  df['section_text'] = df['section_text'].str.replace('<\\w.+?</\\w+>','', flags=re.DOTALL)\n",
      "/tmp/ipykernel_36077/432106249.py:10: FutureWarning: The default value of regex will change from True to False in a future version.\n",
      "  df['section_text'] = df['section_text'].str.replace('<\\w.+?>','', flags=re.DOTALL)\n",
      "/tmp/ipykernel_36077/432106249.py:11: FutureWarning: The default value of regex will change from True to False in a future version.\n",
      "  df['section_text'] = df['section_text'].str.replace('</\\w.+?>','', flags=re.DOTALL)\n"
     ]
    }
   ],
   "source": [
    "df['section_text'] = df['section_text'].replace('',np.nan)\n",
    "df = df.dropna(subset=['section_text'])\n",
    "df['section_text'] = df['section_text'].str.replace(r'\\d+\\.\\d+','')\n",
    "df['section_text'] = df['section_text'].str.replace(r'\\d+-\\d+','')\n",
    "df['section_text'] = df['section_text'].str.replace(r'\\d+','')\n",
    "df['section_text'] = df['section_text'].str.replace('\\(?<ref.*?>','')\n",
    "df['section_text'] = df['section_text'].str.replace('</ref>\\)?','')\n",
    "df['section_text'] = df['section_text'].str.replace('<table.+?</table>','', flags=re.DOTALL)\n",
    "df['section_text'] = df['section_text'].str.replace('<\\w.+?</\\w+>','', flags=re.DOTALL)\n",
    "df['section_text'] = df['section_text'].str.replace('<\\w.+?>','', flags=re.DOTALL)\n",
    "df['section_text'] = df['section_text'].str.replace('</\\w.+?>','', flags=re.DOTALL)"
   ]
  },
  {
   "cell_type": "code",
   "execution_count": 16,
   "metadata": {},
   "outputs": [],
   "source": [
    "merged = pd.merge(df, keyword_df, left_index=True, right_index=True)"
   ]
  },
  {
   "cell_type": "code",
   "execution_count": 18,
   "metadata": {},
   "outputs": [
    {
     "data": {
      "text/plain": [
       "(40653, 7)"
      ]
     },
     "execution_count": 18,
     "metadata": {},
     "output_type": "execute_result"
    }
   ],
   "source": [
    "df.shape"
   ]
  },
  {
   "cell_type": "code",
   "execution_count": 19,
   "metadata": {},
   "outputs": [],
   "source": [
    "merged.to_parquet('USCS Codes Keywords 1000 topics 1gram.parquet')"
   ]
  },
  {
   "cell_type": "code",
   "execution_count": null,
   "metadata": {},
   "outputs": [],
   "source": []
  }
 ],
 "metadata": {
  "kernelspec": {
   "display_name": "Python 3 (ipykernel)",
   "language": "python",
   "name": "python3"
  },
  "language_info": {
   "codemirror_mode": {
    "name": "ipython",
    "version": 3
   },
   "file_extension": ".py",
   "mimetype": "text/x-python",
   "name": "python",
   "nbconvert_exporter": "python",
   "pygments_lexer": "ipython3",
   "version": "3.8.13"
  }
 },
 "nbformat": 4,
 "nbformat_minor": 4
}
